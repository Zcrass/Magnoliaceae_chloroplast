{
  "nbformat": 4,
  "nbformat_minor": 0,
  "metadata": {
    "colab": {
      "name": "Copia de 01_Chloroplast_quality_check_raw",
      "provenance": [],
      "collapsed_sections": [],
      "authorship_tag": "ABX9TyMZt+qslbH1UnKwXTJIkszF"
    },
    "kernelspec": {
      "name": "python3",
      "display_name": "Python 3"
    }
  },
    {
      "cell_type": "markdown",
      "metadata": {
        "id": "lADMa497wNWP"
      },
      "source": [
        "This script is for quality check and adapter trimming of the WGS sequences\n",
        "This requires fastQC and multiQC.\n",
        "Both sofwares could be installing via conda"
      ]
    },
    {
      "cell_type": "code",
      "metadata": {
        "id": "OcXin65bwEZP"
      },
      "source": [
        "# Installing requirements\n",
        "wget https://repo.anaconda.com/miniconda/Miniconda3-py37_4.8.2-Linux-x86_64.sh ### modify to latest miniconda vversion\n",
        "bash ./Miniconda3-py37_4.8.2-Linux-x86_64.sh\n"
      ],
      "execution_count": null,
      "outputs": []
    },
    {
      "cell_type": "markdown",
      "source": [
        "Then we can install both fastQC and multiQC"
      ],
      "metadata": {
        "id": "tZQxentbezPj"
      }
    },
    {
      "cell_type": "code",
      "source": [
        "conda install -c bioconda fastqc -y\n",
        "pip install multiqc"
      ],
      "metadata": {
        "id": "QHb355mye4AF"
      },
      "execution_count": null,
      "outputs": []
    },
    {
      "cell_type": "markdown",
      "source": [
        "Next we create folders for the quality reports"
      ],
      "metadata": {
        "id": "N3tXu56Hf2V0"
      }
    },
    {
      "cell_type": "code",
      "metadata": {
        "id": "krxaPtSHxrYG"
      },
      "source": [
        "mkdir raw_samples/quality_raw\n"
      ],
      "execution_count": null,
      "outputs": []
    },
    {
      "cell_type": "markdown",
      "source": [
        "Now we run fasqc to analyse all the raw files in the folder raw_samples.\n",
        "In this case, we use -t option to perform parallel processing of the samples to speed up the process.\n",
        "As the files that we are using are compressed fastq files (i.e. .fastq.gz) we can use the next syntax."
      ],
      "metadata": {
        "id": "QOb3jAYZgPfE"
      }
    },
    {
      "cell_type": "code",
      "source": [
        "fastqc -t 16 /raw_samples/*.fastq.gz -o /raw_renamed/quality_raw/ "
      ],
      "metadata": {
        "id": "buHzGOvpgz2h"
      },
      "execution_count": null,
      "outputs": []
    },
    {
      "cell_type": "markdown",
      "source": [
        "This produce reports for each of the files in our folder."
      ],
      "metadata": {
        "id": "m6M6z-BjhvDG"
      }
    },
    {
      "cell_type": "code",
      "metadata": {
        "id": "SoaR5cP90-Op"
      },
      "source": [
        "# Quality check of raw reads\n",
        "#!pwd\n",
        "#!ls /content/drive/MyDrive/Magnolia/Phylogenomics/\n",
        "!fastqc -t 16 /content/drive/MyDrive/Magnolia/Phylogenomics/raw_renamed/*.fastq.gz -o /content/drive/MyDrive/Magnolia/Phylogenomics/raw_renamed/fastqc/\n",
        "!multiqc -d /content/drive/MyDrive/Magnolia/Phylogenomics/raw_renamed/fastqc -o /content/drive/MyDrive/Magnolia/Phylogenomics/raw_renamed/multiqc/\n"
      ],
      "execution_count": null,
      "outputs": []
    }
  ]
}
